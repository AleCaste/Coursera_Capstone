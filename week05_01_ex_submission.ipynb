{
 "cells": [
  {
   "cell_type": "markdown",
   "metadata": {},
   "source": [
    "# Applied Data Science Capstone\n",
    "## Capstone notebook project &#x2001; by &#x2001; *Alejandro Casterá García*\n",
    "### Week 05 - Assignment 01:\n",
    "#### The Battle of Neighborhoods"
   ]
  },
  {
   "cell_type": "markdown",
   "metadata": {},
   "source": [
    "## Table of contents  <a name=\"toc_hd5we7\"></a>\n",
    "* [Introduction](#introduction_hd5we7)\n",
    "* [Data](#data_hd5we7)\n",
    "* [Methodology](#methodology_hd5we7)\n",
    "* [Results](#results_hd5we7)\n",
    "* [Discussion](#discussion_hd5we7)\n",
    "* [Conclusion](#conclusion_hd5we7)"
   ]
  },
  {
   "cell_type": "markdown",
   "metadata": {},
   "source": [
    "<a name=\"introduction_hd5we7\"></a><br><br><br><br><br><br>\n",
    "\n",
    "---\n",
    "\n",
    "## Introduction &#x2001;&#x2001;&#x2001;&#x2001;<a href=\"#toc_hd5we7\">&#x21A5;</a>&#x2001;&#x2001;"
   ]
  },
  {
   "cell_type": "markdown",
   "metadata": {},
   "source": [
    "* The client is an editorial company which already publishes several magazines and newspapers.\n",
    "* They want to launch a new product; a short newspaper which is to be distributed free of charge in central places in the city of **Bogota, Colombia**.\n",
    "* The revenues of this newspaper will **ONLY be based on advertising**.\n",
    "* The target consists in highly-educated working professionals the advertisers can be interested in.\n",
    "* The problem the client faces is that they don't know __which locations in the city would be the best suited to distribute the newspaper to the pedestrians__."
   ]
  },
  {
   "cell_type": "markdown",
   "metadata": {},
   "source": [
    "<a name=\"data_hd5we7\"></a><br><br><br><br><br><br>\n",
    "\n",
    "---\n",
    "\n",
    "## Data &#x2001;&#x2001;&#x2001;&#x2001;<a href=\"#toc_hd5we7\">&#x21A5;</a>&#x2001;&#x2001;"
   ]
  },
  {
   "cell_type": "markdown",
   "metadata": {},
   "source": [
    "* The source of data is the **FourSquare API**.\n",
    "* This source gives us **categorized venues** of all kinds around the coordinates of our choice.\n",
    "* The idea is to build a **grid** of equally sized blocks in the city and get the venues for each block.\n",
    "* Then we will keep ONLY those venues of **certain categories**.\n",
    "* Examples of the data categories we will be using categories are:\n",
    "> &bull; *Office*  \n",
    "  &bull; *Business center*  \n",
    "  &bull; *Convention center*  \n",
    "  &bull; *Fair*  \n",
    "  &bull; *Government building*  \n",
    "  &bull; *etc*  \n",
    "* The **coordinates** of those venues found will be the FEATURES for our Machine Learning model.\n",
    "* Our Machine Learning model will be in charge of identifying **clusters** of those categorized venues within the city.\n",
    "* Clusters will take into account the **DENSITY** of venues with business-like categories since we want to distribute the highest number of newspapers per location.\n",
    "* These clusters will give the client the list of best locations in the city to start **distributing the newspaper**."
   ]
  },
  {
   "cell_type": "markdown",
   "metadata": {},
   "source": [
    "<a name=\"methodology_hd5we7\"></a><br><br><br><br><br><br>\n",
    "\n",
    "---\n",
    "\n",
    "## Methodology &#x2001;&#x2001;&#x2001;&#x2001;<a href=\"#toc_hd5we7\">&#x21A5;</a>&#x2001;&#x2001;"
   ]
  },
  {
   "cell_type": "markdown",
   "metadata": {},
   "source": [
    "* As we have mentioned already, we are going to use the **FourSquare API**.\n",
    "* When we use this API we need to provide a point in the map and a search radius; so this API returns results (venues) **inside of a circle**.\n",
    "* We need to search venues in the metropolitan area of the city of **Bogotá, Colombia**.\n",
    "* So the first thing we need to create is a **polygon** that encloses the whole area to cover, and divide the area in **equally-sized cells**.\n",
    "* Normally these cells will have a rectangular shape, but since FourSquare works with circles, we need to use cells with circular shape.\n",
    "* We decided to use the **QGIS** desktop app to generate the grid.\n",
    "* QGIS does NOT support circular cells, but it supports **hexagonal** cells, which are the most similar ones to a circle.\n",
    "\n",
    "* In the following images you can see the result (area to cover, generated grid):"
   ]
  },
  {
   "cell_type": "markdown",
   "metadata": {},
   "source": [
    "<p float=\"left\" align=\"middle\">\n",
    "  <img src=\"https://raw.githubusercontent.com/AleCaste/coursera-applied_data_science_capstone/master/week05_01_ex/001_bogota_grid_off.jpg\" width=\"400\" />\n",
    "  <img src=\"https://raw.githubusercontent.com/AleCaste/coursera-applied_data_science_capstone/master/week05_01_ex/002_bogota_grid_on.jpg\" width=\"400\" /> \n",
    "</p>"
   ]
  },
  {
   "cell_type": "markdown",
   "metadata": {},
   "source": [
    "* QGIS allowed us to calculate the **centroids** of each hexagonal cell.\n",
    "* The **geographical coordinates** of all the centroids were then exported to a *CSV* file so that we could later use them to call the FourSquare API.\n",
    "\n",
    "* Now, one problem we faced was the fact that the **horizontal spacing** that we used between cells was **2km**, but it turned out that this distance was NOT the diameter of the hexagon cell (which is equal to the diameter of the circle that encloses the hexagon) but the diameter of the inner circle (2*r in the figure below):\n",
    "\n",
    "<img src=\"https://raw.githubusercontent.com/AleCaste/coursera-applied_data_science_capstone/master/week05_01_ex/003_hexagon_parts.png\" width=\"400\" />\n",
    "\n",
    "* But knowing d we could calculate R:"
   ]
  },
  {
   "cell_type": "code",
   "execution_count": 2,
   "metadata": {},
   "outputs": [
    {
     "name": "stdout",
     "output_type": "stream",
     "text": [
      "\n",
      "Geographic grid:\n",
      "R            : 1155\n"
     ]
    }
   ],
   "source": [
    "import math\n",
    "# See: http://www.drking.org.uk/hexagons/misc/ratio.html\n",
    "d = 2000             # This is the horizontal spacing parameter used in QGIS when generating the hexagonal grid\n",
    "r = d/2              # Inradius of the hexagon\n",
    "R = r*2 / 3**(1/2)   # Circumradius of the hexagon\n",
    "D = R*2              # Diameter of the hexagon, which equals the actual distance between cells\n",
    "R = math.ceil(R)     # We want this number rounded-up\n",
    "print('\\nGeographic grid:')\n",
    "print('R            : '+str(R))"
   ]
  },
  {
   "cell_type": "markdown",
   "metadata": {},
   "source": [
    "* ... And that is the diameter we used for our circular cells to cover the whole city.\n",
    "* After importing all centroids from the CSV (generated by QGIS) and displaying them on a map as circles, we obtained the following:"
   ]
  },
  {
   "cell_type": "markdown",
   "metadata": {},
   "source": [
    "<p float=\"left\" align=\"middle\">\n",
    "  <img src=\"https://raw.githubusercontent.com/AleCaste/coursera-applied_data_science_capstone/master/week05_01_ex/004_bogota_grid_circles01.png\" width=\"374\" />\n",
    "  <img src=\"https://raw.githubusercontent.com/AleCaste/coursera-applied_data_science_capstone/master/week05_01_ex/005_bogota_grid_circles02.png\" width=\"445\" /> \n",
    "</p>"
   ]
  },
  {
   "cell_type": "markdown",
   "metadata": {},
   "source": [
    "* As you can see from the zoomed-in image on the right, the circles **overlap** each other a little bit.\n",
    "* This **cannot be avoided** since it is all we can do when using circular cells in a grid.\n",
    "* So we need to keep in mind that some results that we might get from FourSquare could be **duplicated**.\n",
    "* But since all results do have their own unique **id** it will be easy to remove duplicated venues.\n",
    "* Again, this is something to keep in mind."
   ]
  },
  {
   "cell_type": "markdown",
   "metadata": {},
   "source": [
    "* Ok... time to call the FourSquare API.\n",
    "* To do so we will use the **search** endpoint (we do not want top or trending venues BUT all venues around a point).\n",
    "* Since the client wants to target *highly-educated working professionals the advertisers can be interested in*, we need to locate ONLY venues that can fall under categories that could be associated to this target.\n",
    "* The whole list of categories that were used is (the strings on the left are the ids):\n",
    "\n",
    "```python\n",
    "    '4bf58dd8d48988d124941735',  # office\n",
    "    '56aa371be4b08b9a8d573517',  # business center\n",
    "    '4bf58dd8d48988d1ff931735',  # convention center\n",
    "    '4eb1daf44b900d56c88a4600',  # fair\n",
    "    '52f2ab2ebcbc57f1066b8b56',  # atm\n",
    "    '4bf58dd8d48988d10a951735',  # bank\n",
    "    '5453de49498eade8af355881',  # business service\n",
    "    '5032850891d4c4b30a586d62',  # credit union\n",
    "    '5744ccdfe4b0c0459246b4be',  # currency exchange\n",
    "    '503287a291d4c4b30a586d65',  # financial or legal service\n",
    "    '5ae95d208a6f17002ce792b2',  # notary\n",
    "    '4bf58dd8d48988d130941735',  # building\n",
    "    '4bf58dd8d48988d126941735',  # government building\n",
    "    '52e81612bcbc57f1066b7a32',  # cultural center\n",
    "    '58daa1558bbb0b01f18ec1b2',  # research station\n",
    "```"
   ]
  },
  {
   "cell_type": "markdown",
   "metadata": {},
   "source": [
    "* We ran a search query on ALL cells in our grid.\n",
    "* In the process we created a table were all results were merged and cleaned-up.\n",
    "* One of the things we did was to make sure no duplicate venues were found in the table.\n",
    "* We got 3320 venues in total out of which **2776** were unique (not duplicated).\n",
    "* Some of the rows in this table can be seen below:\n",
    "\n",
    "<img src=\"https://raw.githubusercontent.com/AleCaste/coursera-applied_data_science_capstone/master/week05_01_ex/006_bogota_venues_found_by_foursquare.png\" width=\"800\" />\n",
    "<br>"
   ]
  },
  {
   "cell_type": "markdown",
   "metadata": {},
   "source": [
    "* But... how many of these venues belonged to each of the categories selected?\n",
    "* Out of the results obtained, we came up with the following table that answers this question (we are showing only the top results in the table):\n",
    "\n",
    "\n",
    "<img src=\"https://raw.githubusercontent.com/AleCaste/coursera-applied_data_science_capstone/master/week05_01_ex/007_bogota_venues_found_by_foursquare__categories.png\" width=\"300\" />\n"
   ]
  },
  {
   "cell_type": "markdown",
   "metadata": {},
   "source": [
    "* And where are all those venues located in the map?\n",
    "* We used **Folium FastMarkerCluster plugin** for this task since the number of markers was simply too high.\n",
    "* This plugin generated the following map:\n",
    "\n",
    "<p float=\"left\" align=\"middle\">\n",
    "  <img src=\"https://raw.githubusercontent.com/AleCaste/coursera-applied_data_science_capstone/master/week05_01_ex/008_bogota_grid_venue_markerclusters01.png\" width=\"379\" />\n",
    "  <img src=\"https://raw.githubusercontent.com/AleCaste/coursera-applied_data_science_capstone/master/week05_01_ex/009_bogota_grid_venue_markerclusters02.png\" width=\"440\" /> \n",
    "</p>"
   ]
  },
  {
   "cell_type": "markdown",
   "metadata": {},
   "source": [
    "* We could see that venues were all over the place throughout the city.\n",
    "* The above map did not help us to get a good picture of which areas could have higher densities of these types of venues.\n",
    "* So we decided to make use of the **Folium HeatMap plugin**.\n",
    "* Thanks to this approach, we could generate the following map:\n",
    "\n",
    "<img src=\"https://raw.githubusercontent.com/AleCaste/coursera-applied_data_science_capstone/master/week05_01_ex/010_bogota_grid_venue_heatmap.png\" width=\"800\" />\n"
   ]
  },
  {
   "cell_type": "markdown",
   "metadata": {},
   "source": [
    "* The above is a much better map as we can easily identify which areas have higher densities.\n",
    "* So now we need to select those areas but not visually but mathematically.\n",
    "* Since **DENSITY** is what we are interested in, and we also want to avoid all the **NOISE** from outliers (venues that are not close to other venues), we decided to use the **DBSCAN** model.\n",
    "* DBSCAN finds clusters for us, but we can NOT specify the number of clusters to be returned.\n",
    "* The number of clusters returned depends on the way we ask DBSCAN to locate high-density areas.\n",
    "* There are 2 parameters to play with: eps and min_samples.\n",
    "* We kept min_samples constant (20) and changed eps from 0.04 to 0.20.\n",
    "* The different **number of clusters** that we obtained from DBSCAN on each of these runs can be shown in this graph:\n",
    "\n",
    "<img src=\"https://raw.githubusercontent.com/AleCaste/coursera-applied_data_science_capstone/master/week05_01_ex/011_bogota_venue_clusters_found_by_dbscan_per_eps.png\" width=\"400\" />\n"
   ]
  },
  {
   "cell_type": "markdown",
   "metadata": {},
   "source": [
    "&#x25cf;&#x2001;The client is looking to get a moderate number of ideal distribution locations.  \n",
    "&#x25cf;&#x2001;After talking to them, they tell us that a number around **20** locations would be good to start with.  \n",
    "&#x25cf;&#x2001;So we pick `eps=0.09` and `min_samples=20` which give us **20 clusters**.  \n",
    "&#x25cf;&#x2001;The clusters provided by DBSCAN are shown in the following map:  \n",
    "&#x2001;&bull;&#x2001;**NOTE** *The image on the right shows a zoomed-in version with the heatmap in the background. You can see that the clusters are indeed located in those hotter areas*\n",
    "\n",
    "<p float=\"left\" align=\"middle\">\n",
    "  <img src=\"https://raw.githubusercontent.com/AleCaste/coursera-applied_data_science_capstone/master/week05_01_ex/012_bogota_venue_clusters_found_by_dbscan.png\" width=\"253\" />\n",
    "  <img src=\"https://raw.githubusercontent.com/AleCaste/coursera-applied_data_science_capstone/master/week05_01_ex/013_bogota_venue_clusters_found_by_dbscan.png\" width=\"566\" /> \n",
    "</p>"
   ]
  },
  {
   "cell_type": "markdown",
   "metadata": {},
   "source": [
    "* This was our **initial solution**.\n",
    "* The problem with it is that as you can see from the heatmap, there is *heat* all over the place.\n",
    "* In other words... there is a **lot of noise**; the venues of the specified categories are everywhere in the city.\n",
    "* So in order to come up with better recommendations, we decided to **reduce the noise**.\n",
    "\n",
    "\n",
    "* The most trivial approach was to **remove some of the categories** so that FourSquare would return less venues.\n",
    "* We decided to remove the **\"Building\"** category since it was one of the most frequent categories on our list of results, and the category itself is too vague.\n",
    "* After doing so, the number of venues returned by FourSquare was reduced from 2776 down to just 607.\n",
    "* Again, we used the Folium FastMarkerCluster plugin to locate the venues on the map:\n",
    "\n",
    "<p float=\"left\" align=\"middle\">\n",
    "  <img src=\"https://raw.githubusercontent.com/AleCaste/coursera-applied_data_science_capstone/master/week05_01_ex/014_bogota_grid_venue_markerclusters01.png\" width=\"340\" />&#x2001;<img src=\"https://raw.githubusercontent.com/AleCaste/coursera-applied_data_science_capstone/master/week05_01_ex/015_bogota_grid_venue_markerclusters02.png\" width=\"479\" /> \n",
    "</p>"
   ]
  },
  {
   "cell_type": "markdown",
   "metadata": {},
   "source": [
    "| AAAA | BBB |\n",
    "|:---:|:---:|\n",
    "\n",
    "\n",
    "| AAAA | BBB |\n",
    "|:---:|:---:|\n",
    "|   |   |"
   ]
  },
  {
   "cell_type": "markdown",
   "metadata": {},
   "source": [
    "* And we also generated a heatmap to visualize high-density areas (more venues of interest):\n",
    "\n",
    "<img src=\"https://raw.githubusercontent.com/AleCaste/coursera-applied_data_science_capstone/master/week05_01_ex/016_bogota_grid_venue_heatmap.png\" width=\"800\" />\n"
   ]
  },
  {
   "cell_type": "markdown",
   "metadata": {},
   "source": [
    "* The next step was to run DBSCAN with min_samples constant (20) and eps values from 0.04 to 0.20.\n",
    "* The problem we found is that due to the fact that venues were now at higher distance between each other, the min_samples parameter was a condition difficult to meet, and thus DBSCAN was returning very **low numbers of clusters** (from 0 to 5).\n",
    "* Since we needed a higher number of clusters we **decreased min_samples down to 5**.\n",
    "* After we did that, DBSCAN started to dicover more clusters:\n",
    "\n",
    "<img src=\"https://raw.githubusercontent.com/AleCaste/coursera-applied_data_science_capstone/master/week05_01_ex/017_bogota_venue_clusters_found_by_dbscan_per_eps.png\" width=\"400\" />\n"
   ]
  },
  {
   "cell_type": "markdown",
   "metadata": {},
   "source": [
    "&#x25cf;&#x2001;So we picked `eps=0.09` and `min_samples=5` which gave us **20 clusters**.  \n",
    "&#x25cf;&#x2001;The clusters provided by DBSCAN are shown in the following map:  \n",
    "&#x2001;&bull;&#x2001;**NOTE** *The images show the heatmap in the background. You can see that the clusters are indeed located in those hotter areas*\n",
    "\n",
    "<p float=\"left\" align=\"middle\">\n",
    "  <img src=\"https://raw.githubusercontent.com/AleCaste/coursera-applied_data_science_capstone/master/week05_01_ex/021_bogota_venue_clusters_found_by_dbscan.png\" width=\"341\" />     \n",
    "  <img src=\"https://raw.githubusercontent.com/AleCaste/coursera-applied_data_science_capstone/master/week05_01_ex/020_bogota_venue_clusters_found_by_dbscan.png\" width=\"478\" /> \n",
    "</p>    \n",
    "<p float=\"left\" align=\"middle\">\n",
    "  <img src=\"https://raw.githubusercontent.com/AleCaste/coursera-applied_data_science_capstone/master/week05_01_ex/019_bogota_venue_clusters_found_by_dbscan.png\" width=\"820\" />    \n",
    "</p>"
   ]
  },
  {
   "cell_type": "markdown",
   "metadata": {},
   "source": [
    "* After checking these maps we were satisfied with the recommended locations."
   ]
  },
  {
   "cell_type": "markdown",
   "metadata": {},
   "source": [
    "<a name=\"results_hd5we7\"><br><br><br><br><br><br>\n",
    "\n",
    "---\n",
    "\n",
    "## Results &#x2001;&#x2001;&#x2001;&#x2001;<a href=\"#toc_hd5we7\">&#x21A5;</a>&#x2001;&#x2001;"
   ]
  },
  {
   "cell_type": "markdown",
   "metadata": {},
   "source": [
    "* Our first approach to get a list of recommended distribution locations faced the problem of **not being specific enough**.\n",
    "* We were dealing with too many **points of interest** due to the fact that our definition of which locations could be *interesting* was too broad.\n",
    "* This resulted in having to deal with a lot of noise and thus getting a finite list of specific recommended locations was **not trustworthy enough**.\n",
    "* We determined those locations by finding those areas with **high density of points of interests** (matching the target profile the client was looking for).\n",
    "\n",
    "\n",
    "* Our second approach resulted to be much better since we manage to **reduce the number of points of interest**.\n",
    "* We did so by re-defining which locations could be *interesting*, being much more **specific** in this case.\n",
    "* This resulted in much less amount of noise and thus a much more reliable finite list of recommended locations to distribute the newspaper.\n",
    "* In the end we came up with a list of **20 locations** which is exactly the number the client asked for."
   ]
  },
  {
   "cell_type": "markdown",
   "metadata": {},
   "source": [
    "<a name=\"discussion_hd5we7\"></a><br><br><br><br><br><br>\n",
    "\n",
    "---\n",
    "\n",
    "## Discussion &#x2001;&#x2001;&#x2001;&#x2001;<a href=\"#toc_hd5we7\">&#x21A5;</a>&#x2001;&#x2001;"
   ]
  },
  {
   "cell_type": "markdown",
   "metadata": {},
   "source": [
    "* The area covered is around **30$km^2$** which is a bit too large.\n",
    "* Since the recommended addresses cover the whole area and are not specifically located in any particular part of the city, maybe it would be difficult for the client to put all those distribution locations to work. The **logistics could be a bit complicated**.\n",
    "* So we would recommend the client to make the **area of interest smaller**, focusing on -let's say- **half** of it.\n",
    "* Determining were in the city we would place this half would imply further study.\n",
    "* And once that would be determined we could perform the calculations again to get a new curated list of recommended distribution locations within the new smaller area of choice. That would make logistics easier."
   ]
  },
  {
   "cell_type": "markdown",
   "metadata": {},
   "source": [
    "<a name=\"conclusion_hd5we7\"></a><br><br><br><br><br><br>\n",
    "\n",
    "---\n",
    "\n",
    "## Conclusion &#x2001;&#x2001;&#x2001;&#x2001;<a href=\"#toc_hd5we7\">&#x21A5;</a>&#x2001;&#x2001;"
   ]
  },
  {
   "cell_type": "markdown",
   "metadata": {},
   "source": [
    "* This report would be the **starting point** to help the client decide which would be *apropriate locations in Bogota to start distributing the free newspaper* to their target readers (highly-educated working professionals the advertisers can be interested in).\n",
    "* The list of recommended locations does NOT include **specific addresses** but **zones** within the city. It will be up to the client to determine the exact address inside each zone or in the near surroundings depending on the specifics of the logistics and some other factors like proximity to well-known buildings, public transportation accesses etc (some of these conditions could be incorporated in further calculations should the client ask for it).\n",
    "\n",
    "<br><br><br>"
   ]
  },
  {
   "cell_type": "code",
   "execution_count": null,
   "metadata": {},
   "outputs": [],
   "source": []
  }
 ],
 "metadata": {
  "kernelspec": {
   "display_name": "Python 3",
   "language": "python",
   "name": "python3"
  },
  "language_info": {
   "codemirror_mode": {
    "name": "ipython",
    "version": 3
   },
   "file_extension": ".py",
   "mimetype": "text/x-python",
   "name": "python",
   "nbconvert_exporter": "python",
   "pygments_lexer": "ipython3",
   "version": "3.6.8"
  }
 },
 "nbformat": 4,
 "nbformat_minor": 2
}
